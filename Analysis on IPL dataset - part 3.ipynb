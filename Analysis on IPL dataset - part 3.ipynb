{
 "cells": [
  {
   "cell_type": "markdown",
   "metadata": {
    "colab_type": "text",
    "id": "-48pMmwdfbDB"
   },
   "source": [
    "# Analysis on IPL dataset - part 3\n",
    "\n",
    "(Based on IPL matches and deliveries dataset)\n",
    "\n",
    "\n",
    "<a>https://www.kaggle.com/nowke9/ipldata#matches.csv</a>\n",
    "\n",
    "\n",
    "<a>https://www.kaggle.com/nowke9/ipldata#deliveries.csv<a>"
   ]
  },
  {
   "cell_type": "code",
   "execution_count": 0,
   "metadata": {
    "colab": {},
    "colab_type": "code",
    "id": "JrGzA1zwfbDI"
   },
   "outputs": [],
   "source": [
    "import numpy as np\n",
    "import pandas as pd\n",
    "import io\n",
    "from google.colab import files"
   ]
  },
  {
   "cell_type": "code",
   "execution_count": 0,
   "metadata": {
    "colab": {},
    "colab_type": "code",
    "id": "_xXvbHI0f-35"
   },
   "outputs": [],
   "source": [
    "match = pd.read_csv('/content/matches.csv')\n",
    "delivery =pd.read_csv('/content/deliveries.csv')"
   ]
  },
  {
   "cell_type": "code",
   "execution_count": 0,
   "metadata": {
    "colab": {
     "base_uri": "https://localhost:8080/",
     "height": 408
    },
    "colab_type": "code",
    "executionInfo": {
     "elapsed": 1414,
     "status": "ok",
     "timestamp": 1582740149164,
     "user": {
      "displayName": "ritayan dhara",
      "photoUrl": "https://lh3.googleusercontent.com/a-/AAuE7mCMi27EnpsittkRy3mKXDuBaPijSvs50LNteQ9D-A=s64",
      "userId": "11874694749832033299"
     },
     "user_tz": -330
    },
    "id": "EyUj6NZwgGM8",
    "outputId": "1ba8c7d8-4810-4896-c9c4-2d01a5f706a2"
   },
   "outputs": [
    {
     "name": "stdout",
     "output_type": "stream",
     "text": [
      "<class 'pandas.core.frame.DataFrame'>\n",
      "RangeIndex: 756 entries, 0 to 755\n",
      "Data columns (total 18 columns):\n",
      "id                 756 non-null int64\n",
      "season             756 non-null int64\n",
      "city               749 non-null object\n",
      "date               756 non-null object\n",
      "team1              756 non-null object\n",
      "team2              756 non-null object\n",
      "toss_winner        756 non-null object\n",
      "toss_decision      756 non-null object\n",
      "result             756 non-null object\n",
      "dl_applied         756 non-null int64\n",
      "winner             752 non-null object\n",
      "win_by_runs        756 non-null int64\n",
      "win_by_wickets     756 non-null int64\n",
      "player_of_match    752 non-null object\n",
      "venue              756 non-null object\n",
      "umpire1            754 non-null object\n",
      "umpire2            754 non-null object\n",
      "umpire3            119 non-null object\n",
      "dtypes: int64(5), object(13)\n",
      "memory usage: 106.4+ KB\n"
     ]
    }
   ],
   "source": [
    "match.info()"
   ]
  },
  {
   "cell_type": "code",
   "execution_count": 0,
   "metadata": {
    "colab": {
     "base_uri": "https://localhost:8080/",
     "height": 459
    },
    "colab_type": "code",
    "executionInfo": {
     "elapsed": 955,
     "status": "ok",
     "timestamp": 1582740149165,
     "user": {
      "displayName": "ritayan dhara",
      "photoUrl": "https://lh3.googleusercontent.com/a-/AAuE7mCMi27EnpsittkRy3mKXDuBaPijSvs50LNteQ9D-A=s64",
      "userId": "11874694749832033299"
     },
     "user_tz": -330
    },
    "id": "gjBMz9krgGKK",
    "outputId": "f23d7764-badd-44e0-c886-3608e9527016"
   },
   "outputs": [
    {
     "name": "stdout",
     "output_type": "stream",
     "text": [
      "<class 'pandas.core.frame.DataFrame'>\n",
      "RangeIndex: 179078 entries, 0 to 179077\n",
      "Data columns (total 21 columns):\n",
      "match_id            179078 non-null int64\n",
      "inning              179078 non-null int64\n",
      "batting_team        179078 non-null object\n",
      "bowling_team        179078 non-null object\n",
      "over                179078 non-null int64\n",
      "ball                179078 non-null int64\n",
      "batsman             179078 non-null object\n",
      "non_striker         179078 non-null object\n",
      "bowler              179078 non-null object\n",
      "is_super_over       179078 non-null int64\n",
      "wide_runs           179078 non-null int64\n",
      "bye_runs            179078 non-null int64\n",
      "legbye_runs         179078 non-null int64\n",
      "noball_runs         179078 non-null int64\n",
      "penalty_runs        179078 non-null int64\n",
      "batsman_runs        179078 non-null int64\n",
      "extra_runs          179078 non-null int64\n",
      "total_runs          179078 non-null int64\n",
      "player_dismissed    8834 non-null object\n",
      "dismissal_kind      8834 non-null object\n",
      "fielder             6448 non-null object\n",
      "dtypes: int64(13), object(8)\n",
      "memory usage: 28.7+ MB\n"
     ]
    }
   ],
   "source": [
    "delivery.info()"
   ]
  },
  {
   "cell_type": "markdown",
   "metadata": {
    "colab_type": "text",
    "id": "4fAeYrwffbDQ"
   },
   "source": [
    "## Q1. Find out a City which has hosted most no. of IPL openers i.e first match of a season."
   ]
  },
  {
   "cell_type": "code",
   "execution_count": 0,
   "metadata": {
    "colab": {
     "base_uri": "https://localhost:8080/",
     "height": 111
    },
    "colab_type": "code",
    "executionInfo": {
     "elapsed": 985,
     "status": "ok",
     "timestamp": 1582740159230,
     "user": {
      "displayName": "ritayan dhara",
      "photoUrl": "https://lh3.googleusercontent.com/a-/AAuE7mCMi27EnpsittkRy3mKXDuBaPijSvs50LNteQ9D-A=s64",
      "userId": "11874694749832033299"
     },
     "user_tz": -330
    },
    "id": "niEBW7c0fbDS",
    "outputId": "e0808dd8-a51a-47df-f78b-5efc99e620d6"
   },
   "outputs": [
    {
     "data": {
      "text/html": [
       "<div>\n",
       "<style scoped>\n",
       "    .dataframe tbody tr th:only-of-type {\n",
       "        vertical-align: middle;\n",
       "    }\n",
       "\n",
       "    .dataframe tbody tr th {\n",
       "        vertical-align: top;\n",
       "    }\n",
       "\n",
       "    .dataframe thead th {\n",
       "        text-align: right;\n",
       "    }\n",
       "</style>\n",
       "<table border=\"1\" class=\"dataframe\">\n",
       "  <thead>\n",
       "    <tr style=\"text-align: right;\">\n",
       "      <th></th>\n",
       "      <th>City</th>\n",
       "      <th>Times_Hosted</th>\n",
       "    </tr>\n",
       "  </thead>\n",
       "  <tbody>\n",
       "    <tr>\n",
       "      <th>0</th>\n",
       "      <td>Chennai</td>\n",
       "      <td>3</td>\n",
       "    </tr>\n",
       "    <tr>\n",
       "      <th>1</th>\n",
       "      <td>Mumbai</td>\n",
       "      <td>3</td>\n",
       "    </tr>\n",
       "  </tbody>\n",
       "</table>\n",
       "</div>"
      ],
      "text/plain": [
       "      City  Times_Hosted\n",
       "0  Chennai             3\n",
       "1   Mumbai             3"
      ]
     },
     "execution_count": 7,
     "metadata": {
      "tags": []
     },
     "output_type": "execute_result"
    }
   ],
   "source": [
    "cities=match.drop_duplicates(subset='season',keep='first')['city'].value_counts().sort_values(ascending=False).reset_index()\n",
    "max_hosts=cities['city'].max()\n",
    "cities[cities['city']==max_hosts].rename(columns={'index':'City','city':'Times_Hosted'})"
   ]
  },
  {
   "cell_type": "code",
   "execution_count": 0,
   "metadata": {
    "colab": {},
    "colab_type": "code",
    "id": "e75oIzSHfbDY"
   },
   "outputs": [],
   "source": []
  },
  {
   "cell_type": "markdown",
   "metadata": {
    "colab_type": "text",
    "id": "GtH4vlQcfbDd"
   },
   "source": [
    "## Q2. Find out top-3 batsman who has scored most runs against Malinga."
   ]
  },
  {
   "cell_type": "code",
   "execution_count": 0,
   "metadata": {
    "colab": {
     "base_uri": "https://localhost:8080/",
     "height": 85
    },
    "colab_type": "code",
    "executionInfo": {
     "elapsed": 1013,
     "status": "ok",
     "timestamp": 1582740164540,
     "user": {
      "displayName": "ritayan dhara",
      "photoUrl": "https://lh3.googleusercontent.com/a-/AAuE7mCMi27EnpsittkRy3mKXDuBaPijSvs50LNteQ9D-A=s64",
      "userId": "11874694749832033299"
     },
     "user_tz": -330
    },
    "id": "BrgitjvIfbDf",
    "outputId": "63480d5f-508b-46d5-e1b4-fa89659fd9ce"
   },
   "outputs": [
    {
     "name": "stdout",
     "output_type": "stream",
     "text": [
      "SL Malinga\n",
      "Shoaib Malik\n",
      "VS Malik\n",
      "I Malhotra\n"
     ]
    }
   ],
   "source": [
    "def check_name(series,name_like):\n",
    "    series.unique()\n",
    "    for st in series.unique():\n",
    "        if name_like.lower() in st.lower(): \n",
    "            print(st)\n",
    "    \n",
    "# Checking for full name of Malinga    \n",
    "check_name(delivery['bowler'],'mal')"
   ]
  },
  {
   "cell_type": "code",
   "execution_count": 0,
   "metadata": {
    "colab": {
     "base_uri": "https://localhost:8080/",
     "height": 142
    },
    "colab_type": "code",
    "executionInfo": {
     "elapsed": 1152,
     "status": "ok",
     "timestamp": 1582740165006,
     "user": {
      "displayName": "ritayan dhara",
      "photoUrl": "https://lh3.googleusercontent.com/a-/AAuE7mCMi27EnpsittkRy3mKXDuBaPijSvs50LNteQ9D-A=s64",
      "userId": "11874694749832033299"
     },
     "user_tz": -330
    },
    "id": "8ftpeDl1fbDm",
    "outputId": "907d9c2d-17cb-4465-e49c-1774335983ad"
   },
   "outputs": [
    {
     "data": {
      "text/html": [
       "<div>\n",
       "<style scoped>\n",
       "    .dataframe tbody tr th:only-of-type {\n",
       "        vertical-align: middle;\n",
       "    }\n",
       "\n",
       "    .dataframe tbody tr th {\n",
       "        vertical-align: top;\n",
       "    }\n",
       "\n",
       "    .dataframe thead th {\n",
       "        text-align: right;\n",
       "    }\n",
       "</style>\n",
       "<table border=\"1\" class=\"dataframe\">\n",
       "  <thead>\n",
       "    <tr style=\"text-align: right;\">\n",
       "      <th></th>\n",
       "      <th>batsman</th>\n",
       "      <th>batsman_runs</th>\n",
       "    </tr>\n",
       "  </thead>\n",
       "  <tbody>\n",
       "    <tr>\n",
       "      <th>0</th>\n",
       "      <td>SR Watson</td>\n",
       "      <td>127</td>\n",
       "    </tr>\n",
       "    <tr>\n",
       "      <th>1</th>\n",
       "      <td>AB de Villiers</td>\n",
       "      <td>125</td>\n",
       "    </tr>\n",
       "    <tr>\n",
       "      <th>2</th>\n",
       "      <td>MS Dhoni</td>\n",
       "      <td>89</td>\n",
       "    </tr>\n",
       "  </tbody>\n",
       "</table>\n",
       "</div>"
      ],
      "text/plain": [
       "          batsman  batsman_runs\n",
       "0       SR Watson           127\n",
       "1  AB de Villiers           125\n",
       "2        MS Dhoni            89"
      ]
     },
     "execution_count": 9,
     "metadata": {
      "tags": []
     },
     "output_type": "execute_result"
    }
   ],
   "source": [
    "delivery[delivery['bowler']=='SL Malinga'].groupby('batsman').sum()['batsman_runs'].sort_values(ascending=False).head(3).reset_index()"
   ]
  },
  {
   "cell_type": "markdown",
   "metadata": {
    "colab_type": "text",
    "id": "5vuTXimffbDr"
   },
   "source": [
    "## Q3. Make a function to find top bowler(in terms of most wickets) against any team. Take input as team."
   ]
  },
  {
   "cell_type": "code",
   "execution_count": 0,
   "metadata": {
    "colab": {
     "base_uri": "https://localhost:8080/",
     "height": 68
    },
    "colab_type": "code",
    "executionInfo": {
     "elapsed": 1088,
     "status": "ok",
     "timestamp": 1582740165539,
     "user": {
      "displayName": "ritayan dhara",
      "photoUrl": "https://lh3.googleusercontent.com/a-/AAuE7mCMi27EnpsittkRy3mKXDuBaPijSvs50LNteQ9D-A=s64",
      "userId": "11874694749832033299"
     },
     "user_tz": -330
    },
    "id": "Mbu8Xlh4fbDs",
    "outputId": "b3a7d171-3b97-40b6-fc52-75646ef67fb5"
   },
   "outputs": [
    {
     "data": {
      "text/plain": [
       "array([nan, 'caught', 'bowled', 'run out', 'lbw', 'caught and bowled',\n",
       "       'stumped', 'retired hurt', 'hit wicket', 'obstructing the field'],\n",
       "      dtype=object)"
      ]
     },
     "execution_count": 10,
     "metadata": {
      "tags": []
     },
     "output_type": "execute_result"
    }
   ],
   "source": [
    "delivery['dismissal_kind'].unique()"
   ]
  },
  {
   "cell_type": "code",
   "execution_count": 0,
   "metadata": {
    "colab": {},
    "colab_type": "code",
    "id": "HrtqGz-5fbDw"
   },
   "outputs": [],
   "source": [
    "def top_bowler(team):\n",
    "    \n",
    "    name={\n",
    "            \"MI\" : \"Mumbai Indians\",\n",
    "            \"CSK\" : \"Chennai Super Kings\",            \n",
    "            \"KKR\" : \"Kolkata Knight Riders\",          \n",
    "            \"RCB\" : \"Royal Challengers Bangalore\",\n",
    "            \"KXIP\" : \"Kings XI Punjab\",               \n",
    "            \"RR\" : \"Rajasthan Royals\",               \n",
    "            \"DD\" : \"Delhi Daredevils\",               \n",
    "            \"SH\" : \"Sunrisers Hyderabad\",            \n",
    "            \"DC\" : \"Deccan Chargers\",                \n",
    "            \"GL\" : \"Gujarat Lions\",                  \n",
    "            \"PW\" : \"Pune Warriors\",                  \n",
    "            \"RPS\" : \"Rising Pune Supergiant\",         \n",
    "            \"KTK\" : \"Kochi Tuskers Kerala\",            \n",
    "            \"RPSS\" : \"Rising Pune Supergiants\", \n",
    "            \"DC\" : 'Delhi Capitals'\n",
    "            }\n",
    "    team=name.get(team.upper(),team)\n",
    "    \n",
    "    return delivery[(delivery['dismissal_kind'].isin(['caught', 'bowled', 'lbw', 'caught and bowled','stumped'])) & (delivery['batting_team']==team)].groupby('bowler').size().sort_values(ascending=False).head(1).reset_index().rename(columns={'bowler':'Bowler',0:'Wickets'})"
   ]
  },
  {
   "cell_type": "code",
   "execution_count": 0,
   "metadata": {
    "colab": {
     "base_uri": "https://localhost:8080/",
     "height": 80
    },
    "colab_type": "code",
    "executionInfo": {
     "elapsed": 1003,
     "status": "ok",
     "timestamp": 1582740166110,
     "user": {
      "displayName": "ritayan dhara",
      "photoUrl": "https://lh3.googleusercontent.com/a-/AAuE7mCMi27EnpsittkRy3mKXDuBaPijSvs50LNteQ9D-A=s64",
      "userId": "11874694749832033299"
     },
     "user_tz": -330
    },
    "id": "xLmJkSfPgxoh",
    "outputId": "9bf27d45-1637-4b5d-aae8-13e095a0f0b3"
   },
   "outputs": [
    {
     "data": {
      "text/html": [
       "<div>\n",
       "<style scoped>\n",
       "    .dataframe tbody tr th:only-of-type {\n",
       "        vertical-align: middle;\n",
       "    }\n",
       "\n",
       "    .dataframe tbody tr th {\n",
       "        vertical-align: top;\n",
       "    }\n",
       "\n",
       "    .dataframe thead th {\n",
       "        text-align: right;\n",
       "    }\n",
       "</style>\n",
       "<table border=\"1\" class=\"dataframe\">\n",
       "  <thead>\n",
       "    <tr style=\"text-align: right;\">\n",
       "      <th></th>\n",
       "      <th>Bowler</th>\n",
       "      <th>Wickets</th>\n",
       "    </tr>\n",
       "  </thead>\n",
       "  <tbody>\n",
       "    <tr>\n",
       "      <th>0</th>\n",
       "      <td>A Nehra</td>\n",
       "      <td>23</td>\n",
       "    </tr>\n",
       "  </tbody>\n",
       "</table>\n",
       "</div>"
      ],
      "text/plain": [
       "    Bowler  Wickets\n",
       "0  A Nehra       23"
      ]
     },
     "execution_count": 12,
     "metadata": {
      "tags": []
     },
     "output_type": "execute_result"
    }
   ],
   "source": [
    "top_bowler('rcb')"
   ]
  },
  {
   "cell_type": "code",
   "execution_count": 0,
   "metadata": {
    "colab": {
     "base_uri": "https://localhost:8080/",
     "height": 80
    },
    "colab_type": "code",
    "executionInfo": {
     "elapsed": 1288,
     "status": "ok",
     "timestamp": 1582740166711,
     "user": {
      "displayName": "ritayan dhara",
      "photoUrl": "https://lh3.googleusercontent.com/a-/AAuE7mCMi27EnpsittkRy3mKXDuBaPijSvs50LNteQ9D-A=s64",
      "userId": "11874694749832033299"
     },
     "user_tz": -330
    },
    "id": "RsC4oojtgxnA",
    "outputId": "1e382448-184a-452a-d8f2-f867867055f0"
   },
   "outputs": [
    {
     "data": {
      "text/html": [
       "<div>\n",
       "<style scoped>\n",
       "    .dataframe tbody tr th:only-of-type {\n",
       "        vertical-align: middle;\n",
       "    }\n",
       "\n",
       "    .dataframe tbody tr th {\n",
       "        vertical-align: top;\n",
       "    }\n",
       "\n",
       "    .dataframe thead th {\n",
       "        text-align: right;\n",
       "    }\n",
       "</style>\n",
       "<table border=\"1\" class=\"dataframe\">\n",
       "  <thead>\n",
       "    <tr style=\"text-align: right;\">\n",
       "      <th></th>\n",
       "      <th>Bowler</th>\n",
       "      <th>Wickets</th>\n",
       "    </tr>\n",
       "  </thead>\n",
       "  <tbody>\n",
       "    <tr>\n",
       "      <th>0</th>\n",
       "      <td>SL Malinga</td>\n",
       "      <td>31</td>\n",
       "    </tr>\n",
       "  </tbody>\n",
       "</table>\n",
       "</div>"
      ],
      "text/plain": [
       "       Bowler  Wickets\n",
       "0  SL Malinga       31"
      ]
     },
     "execution_count": 13,
     "metadata": {
      "tags": []
     },
     "output_type": "execute_result"
    }
   ],
   "source": [
    "top_bowler('csk')"
   ]
  },
  {
   "cell_type": "code",
   "execution_count": 0,
   "metadata": {
    "colab": {},
    "colab_type": "code",
    "id": "RP3F4MOZgxjY"
   },
   "outputs": [],
   "source": []
  },
  {
   "cell_type": "markdown",
   "metadata": {
    "colab_type": "text",
    "id": "zDW_jjFFfbD0"
   },
   "source": [
    "## Q4. Write a function which will take team name as input and return it's record of no. occurance in finals and no. of times won.  [Difficult]\n",
    "\n",
    "ex.-- if team is CSK-- \n",
    "CSK in finals-\n",
    "\n",
    "Played- 8\n",
    "Won- 3\n",
    "\n",
    "If any team which has not played in finals like Gujrat Lions\n",
    "\n",
    "Gujrat Lions in finals-\n",
    "\n",
    "Played-0\n"
   ]
  },
  {
   "cell_type": "code",
   "execution_count": 0,
   "metadata": {
    "colab": {},
    "colab_type": "code",
    "id": "3LCiT5QsfbD2"
   },
   "outputs": [],
   "source": [
    "def finals_and_wins(team):\n",
    "    \n",
    "    name={\n",
    "            \"MI\" : \"Mumbai Indians\",\n",
    "            \"CSK\" : \"Chennai Super Kings\",            \n",
    "            \"KKR\" : \"Kolkata Knight Riders\",          \n",
    "            \"RCB\" : \"Royal Challengers Bangalore\",\n",
    "            \"KXIP\" : \"Kings XI Punjab\",               \n",
    "            \"RR\" : \"Rajasthan Royals\",               \n",
    "            \"DD\" : \"Delhi Daredevils\",               \n",
    "            \"SH\" : \"Sunrisers Hyderabad\",            \n",
    "            \"DC\" : \"Deccan Chargers\",                \n",
    "            \"GL\" : \"Gujarat Lions\",                  \n",
    "            \"PW\" : \"Pune Warriors\",                  \n",
    "            \"RPS\" : \"Rising Pune Supergiant\",         \n",
    "            \"KTK\" : \"Kochi Tuskers Kerala\",            \n",
    "            \"RPSS\" : \"Rising Pune Supergiants\", \n",
    "            \"DC\" : 'Delhi Capitals'\n",
    "            }\n",
    "    team=name.get(team.upper(),team)\n",
    "    \n",
    "    \n",
    "    \n",
    "    winners=match.drop_duplicates(subset=['season'],keep='last')\n",
    "    if (winners[(winners['team1']==team) | (winners['team2']==team)].shape[0])==0:\n",
    "        print(team,'played 0 matches in IPL Finals')\n",
    "    else:\n",
    "        finals=winners[(winners['team1']==team) | (winners['team2']==team)].shape[0]\n",
    "        wins=winners[winners['winner']==team].shape[0]\n",
    "        print(team,'played',finals,'matches in finals and won',wins,'times')"
   ]
  },
  {
   "cell_type": "code",
   "execution_count": 0,
   "metadata": {
    "colab": {
     "base_uri": "https://localhost:8080/",
     "height": 34
    },
    "colab_type": "code",
    "executionInfo": {
     "elapsed": 677,
     "status": "ok",
     "timestamp": 1582740167295,
     "user": {
      "displayName": "ritayan dhara",
      "photoUrl": "https://lh3.googleusercontent.com/a-/AAuE7mCMi27EnpsittkRy3mKXDuBaPijSvs50LNteQ9D-A=s64",
      "userId": "11874694749832033299"
     },
     "user_tz": -330
    },
    "id": "YM088AAAfbD7",
    "outputId": "592bbca7-1e5b-4c40-cf1e-f0a9a6d6d8b1"
   },
   "outputs": [
    {
     "name": "stdout",
     "output_type": "stream",
     "text": [
      "Kolkata Knight Riders played 2 matches in finals and won 2 times\n"
     ]
    }
   ],
   "source": [
    "finals_and_wins('Kkr')"
   ]
  },
  {
   "cell_type": "code",
   "execution_count": 0,
   "metadata": {
    "colab": {
     "base_uri": "https://localhost:8080/",
     "height": 34
    },
    "colab_type": "code",
    "executionInfo": {
     "elapsed": 1067,
     "status": "ok",
     "timestamp": 1582740167960,
     "user": {
      "displayName": "ritayan dhara",
      "photoUrl": "https://lh3.googleusercontent.com/a-/AAuE7mCMi27EnpsittkRy3mKXDuBaPijSvs50LNteQ9D-A=s64",
      "userId": "11874694749832033299"
     },
     "user_tz": -330
    },
    "id": "Ei29-EZNhGvM",
    "outputId": "78affe9a-1d3f-47c3-d89f-d8908150cdee"
   },
   "outputs": [
    {
     "name": "stdout",
     "output_type": "stream",
     "text": [
      "Gujarat Lions played 0 matches in IPL Finals\n"
     ]
    }
   ],
   "source": [
    "finals_and_wins('Gujarat Lions')"
   ]
  },
  {
   "cell_type": "code",
   "execution_count": 0,
   "metadata": {
    "colab": {
     "base_uri": "https://localhost:8080/",
     "height": 34
    },
    "colab_type": "code",
    "executionInfo": {
     "elapsed": 774,
     "status": "ok",
     "timestamp": 1582740167962,
     "user": {
      "displayName": "ritayan dhara",
      "photoUrl": "https://lh3.googleusercontent.com/a-/AAuE7mCMi27EnpsittkRy3mKXDuBaPijSvs50LNteQ9D-A=s64",
      "userId": "11874694749832033299"
     },
     "user_tz": -330
    },
    "id": "CiWDCotxhGtW",
    "outputId": "de9a06d9-4dcf-43c2-9264-b8bf59eb3af9"
   },
   "outputs": [
    {
     "name": "stdout",
     "output_type": "stream",
     "text": [
      "Chennai Super Kings played 8 matches in finals and won 3 times\n"
     ]
    }
   ],
   "source": [
    "finals_and_wins('csk')"
   ]
  },
  {
   "cell_type": "code",
   "execution_count": 0,
   "metadata": {
    "colab": {},
    "colab_type": "code",
    "id": "zLFivhpDhGqG"
   },
   "outputs": [],
   "source": []
  },
  {
   "cell_type": "markdown",
   "metadata": {
    "colab_type": "text",
    "id": "jS3Y4o7KfbD-"
   },
   "source": [
    "## Q5. Write a function which will take a input as batsman and in output it gives total runs scored against each team. [Medium]\n",
    "\n",
    "\n"
   ]
  },
  {
   "cell_type": "code",
   "execution_count": 0,
   "metadata": {
    "colab": {},
    "colab_type": "code",
    "id": "Bxk92kjjfbEA"
   },
   "outputs": [],
   "source": [
    "def total_runs(batsman):\n",
    "    return delivery[delivery['batsman']==batsman].groupby('bowling_team').sum()['total_runs'].sort_values(ascending=False).reset_index().rename(columns={'bowling_team':'Opponent Team','total_runs':'Total_Runs Scored'})"
   ]
  },
  {
   "cell_type": "code",
   "execution_count": 0,
   "metadata": {
    "colab": {
     "base_uri": "https://localhost:8080/",
     "height": 483
    },
    "colab_type": "code",
    "executionInfo": {
     "elapsed": 875,
     "status": "ok",
     "timestamp": 1582740169231,
     "user": {
      "displayName": "ritayan dhara",
      "photoUrl": "https://lh3.googleusercontent.com/a-/AAuE7mCMi27EnpsittkRy3mKXDuBaPijSvs50LNteQ9D-A=s64",
      "userId": "11874694749832033299"
     },
     "user_tz": -330
    },
    "id": "AHogc6_sfbED",
    "outputId": "f47d9368-a860-4340-b5e5-6afbaa698c15"
   },
   "outputs": [
    {
     "data": {
      "text/html": [
       "<div>\n",
       "<style scoped>\n",
       "    .dataframe tbody tr th:only-of-type {\n",
       "        vertical-align: middle;\n",
       "    }\n",
       "\n",
       "    .dataframe tbody tr th {\n",
       "        vertical-align: top;\n",
       "    }\n",
       "\n",
       "    .dataframe thead th {\n",
       "        text-align: right;\n",
       "    }\n",
       "</style>\n",
       "<table border=\"1\" class=\"dataframe\">\n",
       "  <thead>\n",
       "    <tr style=\"text-align: right;\">\n",
       "      <th></th>\n",
       "      <th>Opponent Team</th>\n",
       "      <th>Total_Runs Scored</th>\n",
       "    </tr>\n",
       "  </thead>\n",
       "  <tbody>\n",
       "    <tr>\n",
       "      <th>0</th>\n",
       "      <td>Delhi Daredevils</td>\n",
       "      <td>789</td>\n",
       "    </tr>\n",
       "    <tr>\n",
       "      <th>1</th>\n",
       "      <td>Chennai Super Kings</td>\n",
       "      <td>777</td>\n",
       "    </tr>\n",
       "    <tr>\n",
       "      <th>2</th>\n",
       "      <td>Kolkata Knight Riders</td>\n",
       "      <td>685</td>\n",
       "    </tr>\n",
       "    <tr>\n",
       "      <th>3</th>\n",
       "      <td>Kings XI Punjab</td>\n",
       "      <td>661</td>\n",
       "    </tr>\n",
       "    <tr>\n",
       "      <th>4</th>\n",
       "      <td>Mumbai Indians</td>\n",
       "      <td>652</td>\n",
       "    </tr>\n",
       "    <tr>\n",
       "      <th>5</th>\n",
       "      <td>Sunrisers Hyderabad</td>\n",
       "      <td>528</td>\n",
       "    </tr>\n",
       "    <tr>\n",
       "      <th>6</th>\n",
       "      <td>Rajasthan Royals</td>\n",
       "      <td>382</td>\n",
       "    </tr>\n",
       "    <tr>\n",
       "      <th>7</th>\n",
       "      <td>Deccan Chargers</td>\n",
       "      <td>323</td>\n",
       "    </tr>\n",
       "    <tr>\n",
       "      <th>8</th>\n",
       "      <td>Gujarat Lions</td>\n",
       "      <td>287</td>\n",
       "    </tr>\n",
       "    <tr>\n",
       "      <th>9</th>\n",
       "      <td>Rising Pune Supergiants</td>\n",
       "      <td>201</td>\n",
       "    </tr>\n",
       "    <tr>\n",
       "      <th>10</th>\n",
       "      <td>Pune Warriors</td>\n",
       "      <td>129</td>\n",
       "    </tr>\n",
       "    <tr>\n",
       "      <th>11</th>\n",
       "      <td>Rising Pune Supergiant</td>\n",
       "      <td>83</td>\n",
       "    </tr>\n",
       "    <tr>\n",
       "      <th>12</th>\n",
       "      <td>Delhi Capitals</td>\n",
       "      <td>68</td>\n",
       "    </tr>\n",
       "    <tr>\n",
       "      <th>13</th>\n",
       "      <td>Kochi Tuskers Kerala</td>\n",
       "      <td>51</td>\n",
       "    </tr>\n",
       "  </tbody>\n",
       "</table>\n",
       "</div>"
      ],
      "text/plain": [
       "              Opponent Team  Total_Runs Scored\n",
       "0          Delhi Daredevils                789\n",
       "1       Chennai Super Kings                777\n",
       "2     Kolkata Knight Riders                685\n",
       "3           Kings XI Punjab                661\n",
       "4            Mumbai Indians                652\n",
       "5       Sunrisers Hyderabad                528\n",
       "6          Rajasthan Royals                382\n",
       "7           Deccan Chargers                323\n",
       "8             Gujarat Lions                287\n",
       "9   Rising Pune Supergiants                201\n",
       "10            Pune Warriors                129\n",
       "11   Rising Pune Supergiant                 83\n",
       "12           Delhi Capitals                 68\n",
       "13     Kochi Tuskers Kerala                 51"
      ]
     },
     "execution_count": 19,
     "metadata": {
      "tags": []
     },
     "output_type": "execute_result"
    }
   ],
   "source": [
    "total_runs('V Kohli')"
   ]
  },
  {
   "cell_type": "markdown",
   "metadata": {
    "colab_type": "text",
    "id": "ylvEoPZFfbEI"
   },
   "source": []
  }
 ],
 "metadata": {
  "colab": {
   "collapsed_sections": [],
   "name": "ritayan dhara - Pandas_Assingment-3 .ipynb",
   "provenance": [
    {
     "file_id": "1J4-vxpF4TmS_q90_MStO-KKwyIQ0tlvT",
     "timestamp": 1582740181099
    }
   ]
  },
  "kernelspec": {
   "display_name": "Python 3",
   "language": "python",
   "name": "python3"
  },
  "language_info": {
   "codemirror_mode": {
    "name": "ipython",
    "version": 3
   },
   "file_extension": ".py",
   "mimetype": "text/x-python",
   "name": "python",
   "nbconvert_exporter": "python",
   "pygments_lexer": "ipython3",
   "version": "3.7.4"
  }
 },
 "nbformat": 4,
 "nbformat_minor": 1
}
