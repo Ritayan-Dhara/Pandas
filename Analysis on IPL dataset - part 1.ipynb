{
 "cells": [
  {
   "cell_type": "markdown",
   "metadata": {},
   "source": [
    "# Analysis on IPL dataset - part 1\n",
    "\n",
    "(Based on IPL matches and deliveries dataset)\n",
    "\n",
    "\n",
    "<a>https://www.kaggle.com/nowke9/ipldata#matches.csv</a>\n",
    "\n",
    "\n",
    "<a>https://www.kaggle.com/nowke9/ipldata#deliveries.csv<a>"
   ]
  },
  {
   "cell_type": "markdown",
   "metadata": {
    "colab": {},
    "colab_type": "code",
    "id": "oE0iolhzGjPD"
   },
   "source": [
    "import numpy as np\n",
    "import pandas as pd"
   ]
  },
  {
   "cell_type": "code",
   "execution_count": 11,
   "metadata": {
    "colab": {
     "base_uri": "https://localhost:8080/",
     "height": 374
    },
    "colab_type": "code",
    "executionInfo": {
     "elapsed": 2297,
     "status": "error",
     "timestamp": 1582126790298,
     "user": {
      "displayName": "ritayan dhara",
      "photoUrl": "https://lh3.googleusercontent.com/a-/AAuE7mCMi27EnpsittkRy3mKXDuBaPijSvs50LNteQ9D-A=s64",
      "userId": "11874694749832033299"
     },
     "user_tz": -330
    },
    "id": "stKg9KK8GjPT",
    "outputId": "61b5395c-98ed-4a56-f07b-eb04741b1cf0"
   },
   "outputs": [],
   "source": [
    "df=pd.read_csv('matches.csv')"
   ]
  },
  {
   "cell_type": "code",
   "execution_count": 12,
   "metadata": {
    "colab": {},
    "colab_type": "code",
    "id": "5gsUrxG_GjPb"
   },
   "outputs": [
    {
     "name": "stdout",
     "output_type": "stream",
     "text": [
      "<class 'pandas.core.frame.DataFrame'>\n",
      "RangeIndex: 636 entries, 0 to 635\n",
      "Data columns (total 18 columns):\n",
      "id                 636 non-null int64\n",
      "season             636 non-null int64\n",
      "city               629 non-null object\n",
      "date               636 non-null object\n",
      "team1              636 non-null object\n",
      "team2              636 non-null object\n",
      "toss_winner        636 non-null object\n",
      "toss_decision      636 non-null object\n",
      "result             636 non-null object\n",
      "dl_applied         636 non-null int64\n",
      "winner             633 non-null object\n",
      "win_by_runs        636 non-null int64\n",
      "win_by_wickets     636 non-null int64\n",
      "player_of_match    633 non-null object\n",
      "venue              636 non-null object\n",
      "umpire1            635 non-null object\n",
      "umpire2            635 non-null object\n",
      "umpire3            0 non-null float64\n",
      "dtypes: float64(1), int64(5), object(12)\n",
      "memory usage: 89.6+ KB\n"
     ]
    }
   ],
   "source": [
    "df.info()"
   ]
  },
  {
   "cell_type": "code",
   "execution_count": 13,
   "metadata": {
    "colab": {},
    "colab_type": "code",
    "id": "1F3taAa4GjPm"
   },
   "outputs": [
    {
     "data": {
      "text/plain": [
       "636"
      ]
     },
     "execution_count": 13,
     "metadata": {},
     "output_type": "execute_result"
    }
   ],
   "source": [
    "# Q1. Find the total number of matches played till now in IPL\n",
    "df['id'].nunique()"
   ]
  },
  {
   "cell_type": "code",
   "execution_count": 14,
   "metadata": {
    "colab": {},
    "colab_type": "code",
    "id": "GHfmmlMgGjPv"
   },
   "outputs": [
    {
     "data": {
      "text/html": [
       "<div>\n",
       "<style scoped>\n",
       "    .dataframe tbody tr th:only-of-type {\n",
       "        vertical-align: middle;\n",
       "    }\n",
       "\n",
       "    .dataframe tbody tr th {\n",
       "        vertical-align: top;\n",
       "    }\n",
       "\n",
       "    .dataframe thead th {\n",
       "        text-align: right;\n",
       "    }\n",
       "</style>\n",
       "<table border=\"1\" class=\"dataframe\">\n",
       "  <thead>\n",
       "    <tr style=\"text-align: right;\">\n",
       "      <th></th>\n",
       "      <th>id</th>\n",
       "      <th>city</th>\n",
       "      <th>team1</th>\n",
       "      <th>toss_winner</th>\n",
       "      <th>result</th>\n",
       "      <th>winner</th>\n",
       "      <th>win_by_wickets</th>\n",
       "      <th>venue</th>\n",
       "      <th>umpire2</th>\n",
       "    </tr>\n",
       "  </thead>\n",
       "  <tbody>\n",
       "    <tr>\n",
       "      <td>0</td>\n",
       "      <td>1</td>\n",
       "      <td>Hyderabad</td>\n",
       "      <td>Sunrisers Hyderabad</td>\n",
       "      <td>Royal Challengers Bangalore</td>\n",
       "      <td>normal</td>\n",
       "      <td>Sunrisers Hyderabad</td>\n",
       "      <td>0</td>\n",
       "      <td>Rajiv Gandhi International Stadium, Uppal</td>\n",
       "      <td>NJ Llong</td>\n",
       "    </tr>\n",
       "    <tr>\n",
       "      <td>2</td>\n",
       "      <td>3</td>\n",
       "      <td>Rajkot</td>\n",
       "      <td>Gujarat Lions</td>\n",
       "      <td>Kolkata Knight Riders</td>\n",
       "      <td>normal</td>\n",
       "      <td>Kolkata Knight Riders</td>\n",
       "      <td>10</td>\n",
       "      <td>Saurashtra Cricket Association Stadium</td>\n",
       "      <td>CK Nandan</td>\n",
       "    </tr>\n",
       "    <tr>\n",
       "      <td>4</td>\n",
       "      <td>5</td>\n",
       "      <td>Bangalore</td>\n",
       "      <td>Royal Challengers Bangalore</td>\n",
       "      <td>Royal Challengers Bangalore</td>\n",
       "      <td>normal</td>\n",
       "      <td>Royal Challengers Bangalore</td>\n",
       "      <td>0</td>\n",
       "      <td>M Chinnaswamy Stadium</td>\n",
       "      <td>NaN</td>\n",
       "    </tr>\n",
       "    <tr>\n",
       "      <td>6</td>\n",
       "      <td>7</td>\n",
       "      <td>Mumbai</td>\n",
       "      <td>Kolkata Knight Riders</td>\n",
       "      <td>Mumbai Indians</td>\n",
       "      <td>normal</td>\n",
       "      <td>Mumbai Indians</td>\n",
       "      <td>4</td>\n",
       "      <td>Wankhede Stadium</td>\n",
       "      <td>CK Nandan</td>\n",
       "    </tr>\n",
       "    <tr>\n",
       "      <td>8</td>\n",
       "      <td>9</td>\n",
       "      <td>Pune</td>\n",
       "      <td>Delhi Daredevils</td>\n",
       "      <td>Rising Pune Supergiant</td>\n",
       "      <td>normal</td>\n",
       "      <td>Delhi Daredevils</td>\n",
       "      <td>0</td>\n",
       "      <td>Maharashtra Cricket Association Stadium</td>\n",
       "      <td>S Ravi</td>\n",
       "    </tr>\n",
       "    <tr>\n",
       "      <td>...</td>\n",
       "      <td>...</td>\n",
       "      <td>...</td>\n",
       "      <td>...</td>\n",
       "      <td>...</td>\n",
       "      <td>...</td>\n",
       "      <td>...</td>\n",
       "      <td>...</td>\n",
       "      <td>...</td>\n",
       "      <td>...</td>\n",
       "    </tr>\n",
       "    <tr>\n",
       "      <td>626</td>\n",
       "      <td>627</td>\n",
       "      <td>Kanpur</td>\n",
       "      <td>Kolkata Knight Riders</td>\n",
       "      <td>Gujarat Lions</td>\n",
       "      <td>normal</td>\n",
       "      <td>Gujarat Lions</td>\n",
       "      <td>6</td>\n",
       "      <td>Green Park</td>\n",
       "      <td>CK Nandan</td>\n",
       "    </tr>\n",
       "    <tr>\n",
       "      <td>628</td>\n",
       "      <td>629</td>\n",
       "      <td>Visakhapatnam</td>\n",
       "      <td>Kings XI Punjab</td>\n",
       "      <td>Kings XI Punjab</td>\n",
       "      <td>normal</td>\n",
       "      <td>Rising Pune Supergiants</td>\n",
       "      <td>4</td>\n",
       "      <td>Dr. Y.S. Rajasekhara Reddy ACA-VDCA Cricket St...</td>\n",
       "      <td>Nitin Menon</td>\n",
       "    </tr>\n",
       "    <tr>\n",
       "      <td>630</td>\n",
       "      <td>631</td>\n",
       "      <td>Kolkata</td>\n",
       "      <td>Kolkata Knight Riders</td>\n",
       "      <td>Sunrisers Hyderabad</td>\n",
       "      <td>normal</td>\n",
       "      <td>Kolkata Knight Riders</td>\n",
       "      <td>0</td>\n",
       "      <td>Eden Gardens</td>\n",
       "      <td>M Erasmus</td>\n",
       "    </tr>\n",
       "    <tr>\n",
       "      <td>632</td>\n",
       "      <td>633</td>\n",
       "      <td>Bangalore</td>\n",
       "      <td>Gujarat Lions</td>\n",
       "      <td>Royal Challengers Bangalore</td>\n",
       "      <td>normal</td>\n",
       "      <td>Royal Challengers Bangalore</td>\n",
       "      <td>4</td>\n",
       "      <td>M Chinnaswamy Stadium</td>\n",
       "      <td>HDPK Dharmasena</td>\n",
       "    </tr>\n",
       "    <tr>\n",
       "      <td>634</td>\n",
       "      <td>635</td>\n",
       "      <td>Delhi</td>\n",
       "      <td>Gujarat Lions</td>\n",
       "      <td>Sunrisers Hyderabad</td>\n",
       "      <td>normal</td>\n",
       "      <td>Sunrisers Hyderabad</td>\n",
       "      <td>4</td>\n",
       "      <td>Feroz Shah Kotla</td>\n",
       "      <td>CK Nandan</td>\n",
       "    </tr>\n",
       "  </tbody>\n",
       "</table>\n",
       "<p>318 rows × 9 columns</p>\n",
       "</div>"
      ],
      "text/plain": [
       "      id           city                        team1  \\\n",
       "0      1      Hyderabad          Sunrisers Hyderabad   \n",
       "2      3         Rajkot                Gujarat Lions   \n",
       "4      5      Bangalore  Royal Challengers Bangalore   \n",
       "6      7         Mumbai        Kolkata Knight Riders   \n",
       "8      9           Pune             Delhi Daredevils   \n",
       "..   ...            ...                          ...   \n",
       "626  627         Kanpur        Kolkata Knight Riders   \n",
       "628  629  Visakhapatnam              Kings XI Punjab   \n",
       "630  631        Kolkata        Kolkata Knight Riders   \n",
       "632  633      Bangalore                Gujarat Lions   \n",
       "634  635          Delhi                Gujarat Lions   \n",
       "\n",
       "                     toss_winner  result                       winner  \\\n",
       "0    Royal Challengers Bangalore  normal          Sunrisers Hyderabad   \n",
       "2          Kolkata Knight Riders  normal        Kolkata Knight Riders   \n",
       "4    Royal Challengers Bangalore  normal  Royal Challengers Bangalore   \n",
       "6                 Mumbai Indians  normal               Mumbai Indians   \n",
       "8         Rising Pune Supergiant  normal             Delhi Daredevils   \n",
       "..                           ...     ...                          ...   \n",
       "626                Gujarat Lions  normal                Gujarat Lions   \n",
       "628              Kings XI Punjab  normal      Rising Pune Supergiants   \n",
       "630          Sunrisers Hyderabad  normal        Kolkata Knight Riders   \n",
       "632  Royal Challengers Bangalore  normal  Royal Challengers Bangalore   \n",
       "634          Sunrisers Hyderabad  normal          Sunrisers Hyderabad   \n",
       "\n",
       "     win_by_wickets                                              venue  \\\n",
       "0                 0          Rajiv Gandhi International Stadium, Uppal   \n",
       "2                10             Saurashtra Cricket Association Stadium   \n",
       "4                 0                              M Chinnaswamy Stadium   \n",
       "6                 4                                   Wankhede Stadium   \n",
       "8                 0            Maharashtra Cricket Association Stadium   \n",
       "..              ...                                                ...   \n",
       "626               6                                         Green Park   \n",
       "628               4  Dr. Y.S. Rajasekhara Reddy ACA-VDCA Cricket St...   \n",
       "630               0                                       Eden Gardens   \n",
       "632               4                              M Chinnaswamy Stadium   \n",
       "634               4                                   Feroz Shah Kotla   \n",
       "\n",
       "             umpire2  \n",
       "0           NJ Llong  \n",
       "2          CK Nandan  \n",
       "4                NaN  \n",
       "6          CK Nandan  \n",
       "8             S Ravi  \n",
       "..               ...  \n",
       "626        CK Nandan  \n",
       "628      Nitin Menon  \n",
       "630        M Erasmus  \n",
       "632  HDPK Dharmasena  \n",
       "634        CK Nandan  \n",
       "\n",
       "[318 rows x 9 columns]"
      ]
     },
     "execution_count": 14,
     "metadata": {},
     "output_type": "execute_result"
    }
   ],
   "source": [
    "# Q2. Create a new dataframe from df which will have all the alternate rows and columns from df starting from 0\n",
    "alter=df.iloc[::2,::2]\n",
    "alter"
   ]
  },
  {
   "cell_type": "code",
   "execution_count": 15,
   "metadata": {
    "colab": {},
    "colab_type": "code",
    "id": "bne0GC1dGjP2"
   },
   "outputs": [
    {
     "data": {
      "text/plain": [
       "38"
      ]
     },
     "execution_count": 15,
     "metadata": {},
     "output_type": "execute_result"
    }
   ],
   "source": [
    "# Q3. Find the number of matches played in Mumbai in the period of 2013 and 2017\n",
    "df[ (df['city']=='Mumbai') & (df['season']>=2013) & (df['season']<=2017)].shape[0]"
   ]
  },
  {
   "cell_type": "code",
   "execution_count": null,
   "metadata": {
    "colab": {},
    "colab_type": "code",
    "id": "nT745JwVGjP-"
   },
   "outputs": [],
   "source": []
  },
  {
   "cell_type": "code",
   "execution_count": 16,
   "metadata": {
    "colab": {},
    "colab_type": "code",
    "id": "fpTRSn2DGjQD"
   },
   "outputs": [
    {
     "data": {
      "text/plain": [
       "103"
      ]
     },
     "execution_count": 16,
     "metadata": {},
     "output_type": "execute_result"
    }
   ],
   "source": [
    "# Q4. Find the number of matches where the margin of victory was greater than 30\n",
    "df[df['win_by_runs']>30].shape[0]"
   ]
  },
  {
   "cell_type": "code",
   "execution_count": null,
   "metadata": {
    "colab": {},
    "colab_type": "code",
    "id": "l8Gc2bgoGjQM"
   },
   "outputs": [],
   "source": []
  },
  {
   "cell_type": "code",
   "execution_count": 17,
   "metadata": {
    "colab": {},
    "colab_type": "code",
    "id": "IB2pwY_WGjQU"
   },
   "outputs": [
    {
     "data": {
      "text/plain": [
       "38.46153846153847"
      ]
     },
     "execution_count": 17,
     "metadata": {},
     "output_type": "execute_result"
    }
   ],
   "source": [
    "# Q5. What percent times KKR decides to bat after winning the toss\n",
    "toss_wins=df[df['toss_winner']=='Kolkata Knight Riders'].shape[0]\n",
    "decide_bat=df[(df['toss_winner']=='Kolkata Knight Riders') & (df['toss_decision']=='bat')].shape[0]\n",
    "(decide_bat/toss_wins)*100"
   ]
  }
 ],
 "metadata": {
  "colab": {
   "name": "Pandas-assignment-1.ipynb",
   "provenance": []
  },
  "kernelspec": {
   "display_name": "Python 3",
   "language": "python",
   "name": "python3"
  },
  "language_info": {
   "codemirror_mode": {
    "name": "ipython",
    "version": 3
   },
   "file_extension": ".py",
   "mimetype": "text/x-python",
   "name": "python",
   "nbconvert_exporter": "python",
   "pygments_lexer": "ipython3",
   "version": "3.7.4"
  }
 },
 "nbformat": 4,
 "nbformat_minor": 1
}
